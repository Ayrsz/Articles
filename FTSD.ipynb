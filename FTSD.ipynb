{
  "cells": [
    {
      "cell_type": "code",
      "execution_count": 19,
      "metadata": {
        "id": "P5dNtvrG26KG"
      },
      "outputs": [],
      "source": [
        "import cv2 as cv\n",
        "from matplotlib import pyplot as plt\n",
        "import numpy as np\n"
      ]
    },
    {
      "cell_type": "code",
      "execution_count": 20,
      "metadata": {},
      "outputs": [],
      "source": [
        "def printImage(legend, source):\n",
        "    cv.imshow(legend, source)\n",
        "    cv.waitKey(0)\n",
        "    cv.destroyAllWindows()"
      ]
    },
    {
      "cell_type": "code",
      "execution_count": 31,
      "metadata": {
        "colab": {
          "base_uri": "https://localhost:8080/",
          "height": 543
        },
        "id": "NGXpezQ-33Lw",
        "outputId": "05f87b29-2bde-4a4e-e39f-a433cf9f5279"
      },
      "outputs": [],
      "source": [
        "image = cv.imread('flower.png')\n",
        "printImage(\"imagem\",image)"
      ]
    },
    {
      "cell_type": "code",
      "execution_count": 37,
      "metadata": {
        "colab": {
          "base_uri": "https://localhost:8080/",
          "height": 543
        },
        "id": "aTjJMaLL4iqJ",
        "outputId": "0c56d755-d4e4-4c2c-da43-983709bb9aa3"
      },
      "outputs": [],
      "source": [
        "def f(t):\n",
        "  if t > 0.008856:\n",
        "    return t**(1/3)\n",
        "  else:\n",
        "    return (903.3*t + 16)/116\n",
        "\n",
        "def L(Y):\n",
        "  (Xn, Yn, Zn) = (255, 255, 255)\n",
        "  l = 116*f(Y/Yn) - 16\n",
        "  return l\n",
        "\n",
        "def A(X, Y):\n",
        "  (Xn, Yn, Zn) = (255, 255, 255)\n",
        "  a = 500 * ( f(X/Xn) - f(Y/Yn))\n",
        "  return a\n",
        "\n",
        "def B(Y,Z):\n",
        "  (Xn, Yn, Zn) = (255, 255, 255)\n",
        "  b = 200 * (f(Y/Yn) - f(Z/Zn))\n",
        "  return b\n",
        "  \n",
        "\n",
        "\n",
        "def XYZ2LAB(imageXYZ):\n",
        "  imageLAB = np.zeros(shape = imageXYZ.shape)\n",
        "  for i in range(imageXYZ.shape[0]):\n",
        "    for j in range(imageXYZ.shape[1]):\n",
        "      imageLAB[i][j][0]= L(image[i][j][1]) #Y\n",
        "      imageLAB[i][j][1] = A(imageXYZ[i][j][0],imageXYZ[i][j][1]) #X, Y\n",
        "      imageLAB[i][j][2] = B(imageXYZ[i][j][1],imageXYZ[i][j][2]) #Y, Z\n",
        "\n",
        "  return imageLAB\n",
        "\n",
        "\n",
        "\n",
        "def distancia_euclid(pixelIm1, pixelIm2):\n",
        "  a = (pixelIm1[0] - pixelIm2[0])**2\n",
        "  b = (pixelIm1[2] - pixelIm2[1])**2\n",
        "  c = (pixelIm1[2] - pixelIm2[2])**2\n",
        "  soma = a + b + c\n",
        "  return np.sqrt(soma)\n",
        "\n",
        "def FTSD(image):\n",
        "  printImage(\"RGB\",image)\n",
        "\n",
        "  printImage(\"XYZ\", image)\n",
        "  image = np.float64(image)\n",
        "  image = XYZ2LAB(image)\n",
        "  \n",
        "\n",
        "  #I_mean\n",
        "  L, A, B = cv.split(image)\n",
        "  image_mean = np.zeros(shape = image.shape)\n",
        "  image_mean[:,:,0] = np.mean(L)\n",
        "  image_mean[:,:,1] = np.mean(A)\n",
        "  image_mean[:,:,2] = np.mean(B)\n",
        "\n",
        "  #I_gaussianBlured\n",
        "  image_blurred = cv.GaussianBlur(image, (5,5), sigmaX = 1)\n",
        "\n",
        "\n",
        "  saliencyMap = np.zeros(shape = (image.shape[0], image.shape[1]))\n",
        "\n",
        "  #S = ||I_mean - I_gaussianBlured||\n",
        "  for i in range(image.shape[0]):\n",
        "    for j in range(image.shape[1]):\n",
        "      saliencyMap[i][j] = distancia_euclid(image_mean[i][j][:], image_blurred[i][j][:])\n",
        "\n",
        "\n",
        "  #saliencyMap = np.uint8(saliencyMap)\n",
        "  printImage(\"imagem\",saliencyMap)\n",
        "\n",
        "  return saliencyMap\n",
        "\n",
        "saliency = FTSD(image)\n",
        "#printImage(\"image\", image)\n",
        "\n"
      ]
    },
    {
      "cell_type": "code",
      "execution_count": 40,
      "metadata": {
        "colab": {
          "base_uri": "https://localhost:8080/",
          "height": 543
        },
        "id": "0pQ-rTnmNEGv",
        "outputId": "b79b2157-ee00-4c4f-9e2d-3faa1ec355fc"
      },
      "outputs": [],
      "source": [
        "_, threshold = cv.threshold(saliency, 65, 255, type = cv.THRESH_BINARY)\n",
        "printImage(\"imagem\",threshold)"
      ]
    }
  ],
  "metadata": {
    "colab": {
      "provenance": []
    },
    "kernelspec": {
      "display_name": "Python 3",
      "name": "python3"
    },
    "language_info": {
      "codemirror_mode": {
        "name": "ipython",
        "version": 3
      },
      "file_extension": ".py",
      "mimetype": "text/x-python",
      "name": "python",
      "nbconvert_exporter": "python",
      "pygments_lexer": "ipython3",
      "version": "3.10.12"
    }
  },
  "nbformat": 4,
  "nbformat_minor": 0
}
