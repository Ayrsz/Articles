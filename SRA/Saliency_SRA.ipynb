{
 "cells": [
  {
   "cell_type": "code",
   "execution_count": 2,
   "metadata": {
    "id": "Ct5jAPu_BMrw"
   },
   "outputs": [],
   "source": [
    "import numpy as np\n",
    "import cv2 as cv\n",
    "import matplotlib.pyplot as plt\n"
   ]
  },
  {
   "cell_type": "code",
   "execution_count": 3,
   "metadata": {},
   "outputs": [],
   "source": [
    "def printImage(text, image):\n",
    "    cv.imshow(text, image)\n",
    "    tecla = cv.waitKey(0)\n",
    "    cv.destroyAllWindows()"
   ]
  },
  {
   "cell_type": "markdown",
   "metadata": {
    "id": "ZoHtgBaaAXsc"
   },
   "source": [
    "## Spectral Residual Approach\n",
    "- Modelo de reconhecimento de regiões salientes -> Que chamam mais a atenção dos humanos\n",
    "- Dominio da frequência\n",
    "- I : Imagem de entrada\n",
    "- A(f) : Parte real da transformada de Fourier (R(F(I)))\n",
    "- P(f) : Ângulo de fase da transformada\n",
    "- L(f) : Log de A(f) Log(A(f))"
   ]
  },
  {
   "cell_type": "code",
   "execution_count": 4,
   "metadata": {
    "colab": {
     "base_uri": "https://localhost:8080/",
     "height": 529
    },
    "id": "RVxcPRWH__4e",
    "outputId": "245247e2-0109-4c82-a80d-0c4098ce57e5"
   },
   "outputs": [
    {
     "name": "stderr",
     "output_type": "stream",
     "text": [
      "qt.qpa.plugin: Could not find the Qt platform plugin \"wayland\" in \"/home/mas11/.local/lib/python3.10/site-packages/cv2/qt/plugins\"\n"
     ]
    },
    {
     "name": "stdout",
     "output_type": "stream",
     "text": [
      "(1960, 1470)\n"
     ]
    }
   ],
   "source": [
    "image = cv.imread('flower.jpg', 0)\n",
    "printImage(\"camaleao\", image)\n",
    "print(image.shape)"
   ]
  },
  {
   "cell_type": "code",
   "execution_count": 5,
   "metadata": {
    "colab": {
     "base_uri": "https://localhost:8080/",
     "height": 529
    },
    "id": "2cbceOj5CflD",
    "outputId": "95454d41-f6e9-4bc7-d078-5a2947dc64b2"
   },
   "outputs": [
    {
     "name": "stdout",
     "output_type": "stream",
     "text": [
      "(1960, 1470)\n",
      "(1960, 1470)\n"
     ]
    }
   ],
   "source": [
    "#fft\n",
    "\n",
    "def SpectralResidualApproach(image, escale):\n",
    "  #image = cv.resize(image, dsize = (escale, image.shape[0]))\n",
    "  FourierComponents = np.fft.fft(image)\n",
    "  #Spectro da frequencia\n",
    "  Af = np.abs(FourierComponents)\n",
    "  Lf = np.log10(Af+1)\n",
    "  Pf = np.angle(FourierComponents)\n",
    "\n",
    "  LfBlurred = cv.boxFilter(Lf, -1, (3,3))\n",
    "  Rs = Lf - LfBlurred\n",
    "  #O artigo diz que box * Lf = Af, e podemos conseguir o residuo fazendo a diferença\n",
    "\n",
    "\n",
    "  factor = np.exp(Rs + 1j * Pf)\n",
    "  InverseTransform = np.fft.ifft(factor)\n",
    "  InverseTransform = np.abs(InverseTransform)\n",
    "\n",
    "  InverseTransform = InverseTransform ** 2\n",
    "  cv.normalize(InverseTransform, InverseTransform, alpha = 0, beta = 255, norm_type= cv.NORM_MINMAX)\n",
    "  InverseTransform = np.uint8(InverseTransform)\n",
    "  \n",
    "  return cv.GaussianBlur(InverseTransform, (3, 3), sigmaX = 5)\n",
    "\n",
    "ResidualSpec = SpectralResidualApproach(image, 128)\n",
    "print(ResidualSpec.shape)\n",
    "ResidualSpec = cv.resize(ResidualSpec, dsize = (image.shape[1], ResidualSpec.shape[0]), interpolation= cv.INTER_CUBIC)\n",
    "\n",
    "print(ResidualSpec.shape)\n",
    "printImage(\"Imagem Residual\", ResidualSpec)\n",
    "#printImage(\"imagem Tresh\", threshold)"
   ]
  }
 ],
 "metadata": {
  "colab": {
   "provenance": []
  },
  "kernelspec": {
   "display_name": "Python 3",
   "name": "python3"
  },
  "language_info": {
   "codemirror_mode": {
    "name": "ipython",
    "version": 3
   },
   "file_extension": ".py",
   "mimetype": "text/x-python",
   "name": "python",
   "nbconvert_exporter": "python",
   "pygments_lexer": "ipython3",
   "version": "3.10.12"
  }
 },
 "nbformat": 4,
 "nbformat_minor": 0
}
